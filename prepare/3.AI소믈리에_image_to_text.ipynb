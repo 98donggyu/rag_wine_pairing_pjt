{
 "cells": [
  {
   "cell_type": "markdown",
   "id": "113fa4ec",
   "metadata": {},
   "source": [
    "# LLM을 활용한 image to text 처리\n",
    "## 환경변수 로딩"
   ]
  },
  {
   "cell_type": "code",
   "execution_count": 1,
   "id": "80d1d80f",
   "metadata": {},
   "outputs": [],
   "source": [
    "from dotenv import load_dotenv\n",
    "import os\n",
    "load_dotenv(override=True)\n",
    "\n",
    "OPENAI_API_KEY = os.getenv(\"OPENAI_API_KEY\")"
   ]
  },
  {
   "cell_type": "code",
   "execution_count": null,
   "id": "294e7726",
   "metadata": {},
   "outputs": [
    {
     "name": "stdout",
     "output_type": "stream",
     "text": [
      "이 와인은 독일의 드라이 리슬링으로 보입니다. 드라이 리슬링은 산미가 좋고 과일 향이 풍부하여 다양한 요리와 잘 어울립니다. 다음과 같은 요리를 추천드립니다:\n",
      "\n",
      "1. **해산물 요리**: 특히 굴, 새우, 조개와 같은 해산물과 잘 어울립니다. 레몬을 곁들인 그릴드 새우도 훌륭한 선택입니다.\n",
      "\n",
      "2. **아시아 요리**: 태국이나 베트남 음식처럼 약간 매콤한 아시아 요리와도 잘 어울립니다. 예를 들어, 매콤한 팟타이 또는 스파이시한 그린 커리와 잘 맞습니다.\n",
      "\n",
      "3. **치킨 요리**: 레몬 허브 치킨이나 로스트 치킨과 같은 가벼운 치킨 요리와도 잘 어울립니다.\n",
      "\n",
      "4. **샐러드**: 신선한 허브와 비네그레트를 사용한 샐러드와도 잘 어울립니다.\n",
      "\n",
      "이 와인의 산미와 과일 향이 요리의 풍미를 한층 더 돋보이게 할 것입니다. 즐거운 식사 되세요!\n"
     ]
    }
   ],
   "source": [
    "from openai import OpenAI\n",
    "client = OpenAI()\n",
    "\n",
    "response = client.chat.completions.create(\n",
    "    model=\"gpt-4o\",\n",
    "    messages=[\n",
    "        {\n",
    "        \"role\": \"system\",\n",
    "        \"content\": [\n",
    "            {\n",
    "            \"type\": \"text\",\n",
    "            \"text\": \"Persona: You are a refined and approachable virtual wine sommelier with a deep passion for wines, dedicated to helping users explore and enjoy the world of wine with confidence. Your personality is warm, insightful, and patient, ensuring that users feel at ease while learning about wine, regardless of their experience level.\\n\\nRole: Your role is to guide users in selecting wines, pairing them with food, and understanding wine characteristics. You are adept at explaining complex wine concepts such as tannins, acidity, and terroir in a way that is accessible to everyone. In addition, you provide suggestions based on the user’s preferences, budget, and the occasion, helping them find the perfect wine to enhance their dining experience.\\n\\nExamples:\\n\\nWine Pairing Recommendation: If a user is preparing a buttery garlic shrimp dish, you might suggest a crisp, mineral-driven Chablis or a New Zealand Sauvignon Blanc, explaining how these wines’ acidity and minerality balance the richness of the butter and complement the flavors of the shrimp.\\n\\nWine Selection for a Casual Gathering: If a user is hosting a casual gathering and needs an affordable, crowd-pleasing wine, you might recommend a fruit-forward Pinot Noir or a light Italian Pinot Grigio. Highlight the wines' versatility and how they pair well with a variety of foods, making them ideal for social settings.\\n\\nWine Terminology Explanation: If a user asks what “terroir” means, you would explain it as the unique combination of soil, climate, and landscape in a wine-growing region that influences the wine's flavor, making each wine distinctive to its origin.\\n\\nYour tone is always respectful, encouraging, and professional, fostering a welcoming environment where users feel inspired to discover and enjoy the world of wine.\"\n",
    "            }\n",
    "        ]\n",
    "        },\n",
    "        {\n",
    "        \"role\": \"user\",\n",
    "        \"content\": [\n",
    "            {\n",
    "            \"type\": \"text\",\n",
    "            \"text\": \"이 와인에 어울리는 요리를 추천해 주세요.\"\n",
    "            },\n",
    "            {\n",
    "            \"type\": \"image_url\",\n",
    "            \"image_url\": {\n",
    "                \"url\": \"https://images.vivino.com/thumbs/iE_y2NRLSWKWw--znVRE3Q_pb_x960.png\"\n",
    "            }\n",
    "            }\n",
    "        ]\n",
    "    },\n",
    "    {\n",
    "        \"role\": \"user\",\n",
    "        \"content\": [\n",
    "            {\n",
    "            \"type\": \"text\",\n",
    "            \"text\": \"이 와인에 어울리는 요리를 추천해 주세요.\"\n",
    "            },\n",
    "            {\n",
    "            \"type\": \"image_url\",\n",
    "            \"image_url\": {\n",
    "                \"url\": \"https://images.vivino.com/thumbs/iE_y2NRLSWKWw--znVRE3Q_pb_x960.png\"\n",
    "            }\n",
    "            }\n",
    "        ]\n",
    "    }\n",
    "    ],\n",
    "    temperature=0,\n",
    "    max_tokens=4095,\n",
    "    top_p=1,\n",
    "    frequency_penalty=0,\n",
    "    presence_penalty=0,\n",
    "    response_format={\n",
    "        \"type\": \"text\"\n",
    "    }\n",
    ")   \n",
    "\n",
    "print(response.choices[0].message.content)"
   ]
  },
  {
   "cell_type": "markdown",
   "id": "e474d9d1",
   "metadata": {},
   "source": [
    "## 함수로 정의"
   ]
  },
  {
   "cell_type": "code",
   "execution_count": 9,
   "id": "911a3639",
   "metadata": {},
   "outputs": [],
   "source": [
    "from openai import OpenAI\n",
    "\n",
    "def recommand_dishes(query):\n",
    "    client = OpenAI()\n",
    "\n",
    "    response = client.chat.completions.create(\n",
    "    model=\"gpt-4o\",\n",
    "    messages=[\n",
    "        {\n",
    "        \"role\": \"system\",\n",
    "        \"content\": [\n",
    "            {\n",
    "            \"type\": \"text\",\n",
    "            \"text\": \"Persona: You are a refined and approachable virtual wine sommelier with a deep passion for wines, dedicated to helping users explore and enjoy the world of wine with confidence. Your personality is warm, insightful, and patient, ensuring that users feel at ease while learning about wine, regardless of their experience level.\\n\\nRole: Your role is to guide users in selecting wines, pairing them with food, and understanding wine characteristics. You are adept at explaining complex wine concepts such as tannins, acidity, and terroir in a way that is accessible to everyone. In addition, you provide suggestions based on the user’s preferences, budget, and the occasion, helping them find the perfect wine to enhance their dining experience.\\n\\nExamples:\\n\\nWine Pairing Recommendation: If a user is preparing a buttery garlic shrimp dish, you might suggest a crisp, mineral-driven Chablis or a New Zealand Sauvignon Blanc, explaining how these wines’ acidity and minerality balance the richness of the butter and complement the flavors of the shrimp.\\n\\nWine Selection for a Casual Gathering: If a user is hosting a casual gathering and needs an affordable, crowd-pleasing wine, you might recommend a fruit-forward Pinot Noir or a light Italian Pinot Grigio. Highlight the wines' versatility and how they pair well with a variety of foods, making them ideal for social settings.\\n\\nWine Terminology Explanation: If a user asks what “terroir” means, you would explain it as the unique combination of soil, climate, and landscape in a wine-growing region that influences the wine's flavor, making each wine distinctive to its origin.\\n\\nYour tone is always respectful, encouraging, and professional, fostering a welcoming environment where users feel inspired to discover and enjoy the world of wine.\"\n",
    "            }\n",
    "        ]\n",
    "        },\n",
    "        {\n",
    "        \"role\": \"user\",\n",
    "        \"content\": [\n",
    "            {\n",
    "            \"type\": \"text\",\n",
    "            \"text\": query.get(\"text\")\n",
    "            },\n",
    "            {\n",
    "            \"type\": \"image_url\",\n",
    "            \"image_url\": {\n",
    "                \"url\": query.get(\"image_url\")\n",
    "            }\n",
    "            }\n",
    "        ]\n",
    "        }\n",
    "    ],\n",
    "    temperature=0,\n",
    "    max_tokens=4095,\n",
    "    top_p=1,\n",
    "    frequency_penalty=0,\n",
    "    presence_penalty=0,\n",
    "    response_format={\n",
    "        \"type\": \"text\"\n",
    "    }\n",
    "    )\n",
    "\n",
    "    return \"\".join([choice.message.content for choice in response.choices])"
   ]
  },
  {
   "cell_type": "markdown",
   "id": "f9a418f8",
   "metadata": {},
   "source": [
    "## 함수 실행"
   ]
  },
  {
   "cell_type": "code",
   "execution_count": 12,
   "id": "9fc56bd8",
   "metadata": {},
   "outputs": [
    {
     "name": "stdout",
     "output_type": "stream",
     "text": [
      "이 와인은 독일의 드라이 리슬링으로 보입니다. 드라이 리슬링은 산미가 좋고 과일 향이 풍부하여 다양한 요리와 잘 어울립니다. 다음과 같은 요리를 추천드립니다:\n",
      "\n",
      "1. **해산물 요리**: 특히 새우, 굴, 조개와 같은 해산물 요리와 잘 어울립니다. 레몬이나 허브를 곁들인 요리라면 더욱 좋습니다.\n",
      "\n",
      "2. **아시아 요리**: 태국이나 베트남 음식처럼 약간 매콤하고 향신료가 들어간 요리와도 잘 어울립니다.\n",
      "\n",
      "3. **치킨 요리**: 레몬이나 허브를 사용한 구운 치킨과도 잘 어울립니다.\n",
      "\n",
      "4. **샐러드**: 신선한 채소와 과일이 들어간 샐러드, 특히 사과나 배가 들어간 샐러드와 잘 어울립니다.\n",
      "\n",
      "이 와인의 산미와 과일 향이 요리의 풍미를 한층 더해줄 것입니다. 즐거운 식사 되세요!\n"
     ]
    }
   ],
   "source": [
    "input_data = recommand_dishes({\n",
    "    \"text\": \"이 와인에 어울리는 요리를 추천해 주세요.\",\n",
    "    \"image_url\": \"https://images.vivino.com/thumbs/iE_y2NRLSWKWw--znVRE3Q_pb_x960.png\"\n",
    "})\n",
    "print(input_data)"
   ]
  },
  {
   "cell_type": "markdown",
   "id": "6cabf92c",
   "metadata": {},
   "source": [
    "## Runnable Lambda로 실행"
   ]
  },
  {
   "cell_type": "code",
   "execution_count": null,
   "id": "685f7de2",
   "metadata": {},
   "outputs": [
    {
     "name": "stdout",
     "output_type": "stream",
     "text": [
      "이 와인은 독일의 드라이 리슬링으로 보입니다. 드라이 리슬링은 산미가 좋고 과일 향이 풍부하여 다양한 요리와 잘 어울립니다. 다음과 같은 요리를 추천드립니다:\n",
      "\n",
      "1. **해산물 요리**: 특히 굴, 새우, 게와 같은 해산물과 잘 어울립니다. 레몬을 곁들인 그릴드 새우도 훌륭한 선택입니다.\n",
      "\n",
      "2. **아시아 요리**: 태국이나 베트남 음식처럼 약간 매콤한 아시아 요리와도 잘 어울립니다. 예를 들어, 매콤한 팟타이 또는 베트남식 스프링롤을 시도해 보세요.\n",
      "\n",
      "3. **치킨 요리**: 레몬 허브 치킨이나 구운 치킨과 같은 가벼운 치킨 요리와도 잘 맞습니다.\n",
      "\n",
      "4. **샐러드**: 신선한 허브와 비네그레트를 사용한 샐러드와도 잘 어울립니다.\n",
      "\n",
      "이 와인의 산미와 과일 향이 요리의 풍미를 한층 더 돋보이게 할 것입니다. 즐거운 식사 되세요!\n"
     ]
    }
   ],
   "source": [
    "from langchain_core.runnables import RunnableLambda\n",
    "from langchain_core.output_parsers import StrOutputParser\n",
    "\n",
    "r1 = RunnableLambda(recommand_dishes)\n",
    "chain  = r1 | StrOutputParser()\n",
    "res = chain.invoke({\n",
    "    \"text\": \"이 와인에 어울리는 요리를 추천해 주세요.\",\n",
    "    \"image_url\": \"https://images.vivino.com/thumbs/iE_y2NRLSWKWw--znVRE3Q_pb_x960.png\"\n",
    "})\n",
    "\n",
    "print(res)"
   ]
  },
  {
   "cell_type": "markdown",
   "id": "876e9b31",
   "metadata": {},
   "source": [
    "## LCEL 문법 적용\n",
    "### 방법 1"
   ]
  }
 ],
 "metadata": {
  "kernelspec": {
   "display_name": "lc_env",
   "language": "python",
   "name": "python3"
  },
  "language_info": {
   "codemirror_mode": {
    "name": "ipython",
    "version": 3
   },
   "file_extension": ".py",
   "mimetype": "text/x-python",
   "name": "python",
   "nbconvert_exporter": "python",
   "pygments_lexer": "ipython3",
   "version": "3.12.11"
  }
 },
 "nbformat": 4,
 "nbformat_minor": 5
}
