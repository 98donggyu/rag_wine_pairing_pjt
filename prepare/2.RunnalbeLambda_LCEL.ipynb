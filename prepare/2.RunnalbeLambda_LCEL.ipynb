{
 "cells": [
  {
   "cell_type": "markdown",
   "id": "ef4483ae",
   "metadata": {},
   "source": [
    "# RunnableLambda 객체 사용방법"
   ]
  },
  {
   "cell_type": "code",
   "execution_count": 13,
   "id": "c89ab994",
   "metadata": {},
   "outputs": [
    {
     "name": "stdout",
     "output_type": "stream",
     "text": [
      "20\n"
     ]
    }
   ],
   "source": [
    "from langchain_core.runnables import RunnableLambda\n",
    "\n",
    "def func(x):\n",
    "    return x * 2\n",
    "\n",
    "runnable_1 = RunnableLambda(func)\n",
    "\n",
    "print(runnable_1.invoke(10))"
   ]
  },
  {
   "cell_type": "code",
   "execution_count": 14,
   "id": "48e1aba8",
   "metadata": {},
   "outputs": [
    {
     "name": "stdout",
     "output_type": "stream",
     "text": [
      "20\n"
     ]
    }
   ],
   "source": [
    "runnable_2 = RunnableLambda(lambda x: x * 2)\n",
    "print(runnable_2.invoke(10))"
   ]
  },
  {
   "cell_type": "code",
   "execution_count": 15,
   "id": "d92dc3f0",
   "metadata": {},
   "outputs": [
    {
     "name": "stdout",
     "output_type": "stream",
     "text": [
      "[20, 40, 60]\n"
     ]
    }
   ],
   "source": [
    "runnable_3 = RunnableLambda(func)\n",
    "print(runnable_3.batch([10, 20, 30]))"
   ]
  },
  {
   "cell_type": "code",
   "execution_count": 16,
   "id": "bed7c77d",
   "metadata": {},
   "outputs": [
    {
     "name": "stdout",
     "output_type": "stream",
     "text": [
      "0\n",
      "2\n",
      "4\n",
      "6\n",
      "8\n",
      "10\n",
      "12\n",
      "14\n",
      "16\n",
      "18\n"
     ]
    }
   ],
   "source": [
    "def gen(x):\n",
    "    for y in x:\n",
    "        yield y * 2\n",
    "\n",
    "runnable_4 = RunnableLambda(gen)\n",
    "\n",
    "for chunk in runnable_4.stream(range(10)):\n",
    "    print(chunk)"
   ]
  },
  {
   "cell_type": "markdown",
   "id": "fd045098",
   "metadata": {},
   "source": [
    "## 순차적으로 실행하게 하기"
   ]
  },
  {
   "cell_type": "code",
   "execution_count": 17,
   "id": "c921ba7a",
   "metadata": {},
   "outputs": [
    {
     "data": {
      "text/plain": [
       "32"
      ]
     },
     "execution_count": 17,
     "metadata": {},
     "output_type": "execute_result"
    }
   ],
   "source": [
    "from langchain_core.runnables import RunnableLambda, RunnableSequence\n",
    "\n",
    "r1 = RunnableLambda(lambda x: 3 * x)\n",
    "r2 = RunnableLambda(lambda x: x + 2)\n",
    "\n",
    "chain = r1 | r2\n",
    "\n",
    "chain.invoke(10)"
   ]
  },
  {
   "cell_type": "code",
   "execution_count": 18,
   "id": "15b22d79",
   "metadata": {},
   "outputs": [
    {
     "data": {
      "text/plain": [
       "{'first': 30, 'second': 12}"
      ]
     },
     "execution_count": 18,
     "metadata": {},
     "output_type": "execute_result"
    }
   ],
   "source": [
    "from langchain_core.runnables import RunnableLambda, RunnableParallel\n",
    "\n",
    "r1 = RunnableLambda(lambda x: 3 * x)\n",
    "r2 = RunnableLambda(lambda x: x + 2)\n",
    "\n",
    "chain = RunnableParallel(first = r1, second = r2)\n",
    "\n",
    "chain.invoke(10)"
   ]
  },
  {
   "cell_type": "code",
   "execution_count": 25,
   "id": "023c45c7",
   "metadata": {},
   "outputs": [
    {
     "name": "stdout",
     "output_type": "stream",
     "text": [
      "{'r2': [{'foo': 2}, {'foo': 2}, {'foo': 2}], 'r3': \"{'foo': 2}\"}\n",
      "        +-------------+        \n",
      "        | LambdaInput |        \n",
      "        +-------------+        \n",
      "               *               \n",
      "               *               \n",
      "               *               \n",
      "          +--------+           \n",
      "          | Lambda |           \n",
      "          +--------+           \n",
      "               *               \n",
      "               *               \n",
      "               *               \n",
      "   +----------------------+    \n",
      "   | Parallel<r2,r3>Input |    \n",
      "   +----------------------+    \n",
      "          *         *          \n",
      "        **           **        \n",
      "       *               *       \n",
      "+--------+          +--------+ \n",
      "| Lambda |          | Lambda | \n",
      "+--------+          +--------+ \n",
      "          *         *          \n",
      "           **     **           \n",
      "             *   *             \n",
      "  +-----------------------+    \n",
      "  | Parallel<r2,r3>Output |    \n",
      "  +-----------------------+    \n"
     ]
    }
   ],
   "source": [
    "runnable_1 = RunnableLambda(lambda x: {\"foo\": x})\n",
    "runnable_2 = RunnableLambda(lambda x: [x] * 3)\n",
    "runnable_3 = RunnableLambda(lambda x: str(x))\n",
    "\n",
    "chain = runnable_1 | RunnableParallel(r2=runnable_2, r3=runnable_3)\n",
    "\n",
    "print(chain.invoke(2))\n",
    "chain.get_graph().print_ascii()"
   ]
  },
  {
   "cell_type": "markdown",
   "id": "b8f8491a",
   "metadata": {},
   "source": [
    "## LCEL 문법 적용"
   ]
  },
  {
   "cell_type": "code",
   "execution_count": 20,
   "id": "f6dc258c",
   "metadata": {},
   "outputs": [],
   "source": [
    "from langchain_openai import ChatOpenAI\n",
    "llm = ChatOpenAI(model=\"gpt-4o\")"
   ]
  },
  {
   "cell_type": "code",
   "execution_count": 21,
   "id": "3e4d51c0",
   "metadata": {},
   "outputs": [
    {
     "name": "stdout",
     "output_type": "stream",
     "text": [
      "content='안녕하세요! 무엇을 도와드릴까요? Vector Search에 대해 궁금한 점이 있으신가요?' additional_kwargs={'refusal': None} response_metadata={'token_usage': {'completion_tokens': 25, 'prompt_tokens': 42, 'total_tokens': 67, 'completion_tokens_details': {'accepted_prediction_tokens': 0, 'audio_tokens': 0, 'reasoning_tokens': 0, 'rejected_prediction_tokens': 0}, 'prompt_tokens_details': {'audio_tokens': 0, 'cached_tokens': 0}}, 'model_name': 'gpt-4o-2024-08-06', 'system_fingerprint': 'fp_07871e2ad8', 'id': 'chatcmpl-BkKpVB6aqhj2ROs2665sHwxrOTdfJ', 'service_tier': 'default', 'finish_reason': 'stop', 'logprobs': None} id='run--8f492689-450c-421a-a23c-6f28cf4fe470-0' usage_metadata={'input_tokens': 42, 'output_tokens': 25, 'total_tokens': 67, 'input_token_details': {'audio': 0, 'cache_read': 0}, 'output_token_details': {'audio': 0, 'reasoning': 0}}\n"
     ]
    }
   ],
   "source": [
    "from langchain_core.prompts import ChatPromptTemplate\n",
    "\n",
    "prompt = ChatPromptTemplate.from_template(\"\"\"\n",
    "    다음 컨텍스트에 대해서만 답하세요.\n",
    "    컨텍스트 :\n",
    "    {context}\n",
    "    질문:\n",
    "    {query}\n",
    "\"\"\")\n",
    "\n",
    "chain = prompt | llm\n",
    "input = {\n",
    "            \"context\": \"Vector Search에 의한 컨텐스트 내용\", \n",
    "            \"query\": \"안녕\"\n",
    "        }\n",
    "print(chain.invoke(input))"
   ]
  },
  {
   "cell_type": "code",
   "execution_count": 22,
   "id": "b21ba173",
   "metadata": {},
   "outputs": [],
   "source": [
    "from langchain_core.prompts import ChatPromptTemplate\n",
    "from langchain_core.runnables import RunnableLambda\n",
    "\n",
    "prompt = ChatPromptTemplate.from_template(\"\"\"\n",
    "    다음 컨텍스트에 대해서만 답하세요.\n",
    "    컨텍스트 :\n",
    "    {context}\n",
    "    질문:\n",
    "    {query}\n",
    "\"\"\")\n",
    "\n",
    "# 기본값을 제공하는 함수\n",
    "def add_default_values(input_dict):\n",
    "    return {\n",
    "        \"context\": input_dict.get(\"context\", \"Vector Search에 의한 컨텐스트 내용\"),\n",
    "        \"query\": input_dict.get(\"query\", \"안녕\")\n",
    "    }\n",
    "\n",
    "\n",
    "# 체인 구성\n",
    "chain = RunnableLambda(add_default_values) | prompt | llm"
   ]
  },
  {
   "cell_type": "code",
   "execution_count": 23,
   "id": "bd23fb68",
   "metadata": {},
   "outputs": [
    {
     "name": "stdout",
     "output_type": "stream",
     "text": [
      "content='안녕하세요! 어떻게 도와드릴까요? Vector Search에 관련된 질문이 있으신가요?' additional_kwargs={'refusal': None} response_metadata={'token_usage': {'completion_tokens': 22, 'prompt_tokens': 42, 'total_tokens': 64, 'completion_tokens_details': {'accepted_prediction_tokens': 0, 'audio_tokens': 0, 'reasoning_tokens': 0, 'rejected_prediction_tokens': 0}, 'prompt_tokens_details': {'audio_tokens': 0, 'cached_tokens': 0}}, 'model_name': 'gpt-4o-2024-08-06', 'system_fingerprint': 'fp_a288987b44', 'id': 'chatcmpl-BkKpWxb8RSxfpNa1niryaAa05l3Bj', 'service_tier': 'default', 'finish_reason': 'stop', 'logprobs': None} id='run--a91e9beb-62d4-4480-9108-8d58a6d89426-0' usage_metadata={'input_tokens': 42, 'output_tokens': 22, 'total_tokens': 64, 'input_token_details': {'audio': 0, 'cache_read': 0}, 'output_token_details': {'audio': 0, 'reasoning': 0}}\n"
     ]
    }
   ],
   "source": [
    "result = chain.invoke({})\n",
    "print(result)"
   ]
  },
  {
   "cell_type": "code",
   "execution_count": 24,
   "id": "2a64a909",
   "metadata": {},
   "outputs": [
    {
     "name": "stdout",
     "output_type": "stream",
     "text": [
      "content='RunnableLambda는 자바에서 람다 표현식을 사용하여 Runnable 인터페이스의 인스턴스를 간단하고 명확하게 생성할 수 있게 해주는 기능입니다.' additional_kwargs={'refusal': None} response_metadata={'token_usage': {'completion_tokens': 37, 'prompt_tokens': 52, 'total_tokens': 89, 'completion_tokens_details': {'accepted_prediction_tokens': 0, 'audio_tokens': 0, 'reasoning_tokens': 0, 'rejected_prediction_tokens': 0}, 'prompt_tokens_details': {'audio_tokens': 0, 'cached_tokens': 0}}, 'model_name': 'gpt-4o-2024-08-06', 'system_fingerprint': 'fp_07871e2ad8', 'id': 'chatcmpl-BkKpYuYN92gJ1GRjViIMx0KRxooNY', 'service_tier': 'default', 'finish_reason': 'stop', 'logprobs': None} id='run--9a4c6f7f-fb29-4f31-a0bc-e8608c7f81ea-0' usage_metadata={'input_tokens': 52, 'output_tokens': 37, 'total_tokens': 89, 'input_token_details': {'audio': 0, 'cache_read': 0}, 'output_token_details': {'audio': 0, 'reasoning': 0}}\n"
     ]
    }
   ],
   "source": [
    "result2 = chain.invoke({\"query\": \"RunnableLambda에 대해 1문장으로 설명해줘\"})\n",
    "print(result2)"
   ]
  }
 ],
 "metadata": {
  "kernelspec": {
   "display_name": "lc_env",
   "language": "python",
   "name": "python3"
  },
  "language_info": {
   "codemirror_mode": {
    "name": "ipython",
    "version": 3
   },
   "file_extension": ".py",
   "mimetype": "text/x-python",
   "name": "python",
   "nbconvert_exporter": "python",
   "pygments_lexer": "ipython3",
   "version": "3.12.11"
  }
 },
 "nbformat": 4,
 "nbformat_minor": 5
}
