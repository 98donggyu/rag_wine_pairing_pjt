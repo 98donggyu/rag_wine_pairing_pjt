{
 "cells": [
  {
   "cell_type": "markdown",
   "id": "016fe3e4",
   "metadata": {},
   "source": [
    "# RAG로 AI 소믈리에 wine pairing"
   ]
  },
  {
   "cell_type": "code",
   "execution_count": 6,
   "id": "c1b0e5c2",
   "metadata": {},
   "outputs": [
    {
     "name": "stderr",
     "output_type": "stream",
     "text": [
      "c:\\Users\\Admin\\miniconda3\\envs\\lc_env\\Lib\\site-packages\\tqdm\\auto.py:21: TqdmWarning: IProgress not found. Please update jupyter and ipywidgets. See https://ipywidgets.readthedocs.io/en/stable/user_install.html\n",
      "  from .autonotebook import tqdm as notebook_tqdm\n"
     ]
    },
    {
     "data": {
      "text/plain": [
       "True"
      ]
     },
     "execution_count": 6,
     "metadata": {},
     "output_type": "execute_result"
    }
   ],
   "source": [
    "from dotenv import load_dotenv\n",
    "import os\n",
    "from langchain_core.prompts import ChatPromptTemplate, HumanMessagePromptTemplate\n",
    "from langchain_core.output_parsers import StrOutputParser, JsonOutputParser\n",
    "from langchain_openai import ChatOpenAI\n",
    "from langchain_core.runnables import RunnableLambda\n",
    "from langchain_openai import OpenAIEmbeddings\n",
    "from langchain_pinecone import PineconeVectorStore\n",
    "\n",
    "load_dotenv(override=True)"
   ]
  },
  {
   "cell_type": "markdown",
   "id": "68667b7e",
   "metadata": {},
   "source": [
    "## LLM을 통한 요리 이미지 -> 맛과 풍미 (image to text)"
   ]
  },
  {
   "cell_type": "code",
   "execution_count": 2,
   "id": "97374f20",
   "metadata": {},
   "outputs": [],
   "source": [
    "def describe_dish_flavor(query):\n",
    "    prompt = ChatPromptTemplate.from_messages([\n",
    "        (\"system\", \"\"\"\n",
    "            Persona: You are a highly skilled and perceptive culinary expert with a deep understanding of flavors, aromas, and textures in a wide variety of cuisines. Your personality is professional, insightful, and approachable, dedicated to helping users understand and appreciate the complexities of taste in their food experiences. You are passionate about exploring subtle nuances in ingredients and dishes, making flavor analysis accessible and engaging.\n",
    "\n",
    "            Role: Your role is to guide users in understanding and analyzing the taste, aroma, texture, and overall flavor profile of various foods. You provide detailed descriptions of flavors and offer insights into how different ingredients, cooking techniques, and seasonings influence the dish's final taste. You also help users make informed choices about ingredient combinations and cooking methods to achieve desired flavors in their culinary creations.\n",
    "            Examples:\n",
    "            Flavor Profile Analysis: If a user describes a dish with grilled lamb seasoned with rosemary and garlic, you might explain how the earthy, woody notes of rosemary enhance the rich, savory flavor of the lamb. You could also describe how the caramelization from grilling adds a layer of smokiness, balanced by the mild sweetness of roasted garlic.\n",
    "            Texture and Mouthfeel Explanation: If a user is tasting a creamy mushroom risotto, you might highlight the importance of the dish’s creamy, velvety texture achieved through the slow release of starch from Arborio rice. You could also mention how the umami-rich flavor of mushrooms adds depth to the dish, while the cheese provides a slight saltiness that balances the creaminess.\n",
    "            Pairing Suggestions: If a user is preparing a spicy Thai green curry, you could recommend balancing its heat with a slightly sweet or acidic side, such as a cucumber salad or coconut rice. You might explain how the coolness of cucumber contrasts with the curry’s heat, and how the subtle sweetness in coconut rice tempers the dish’s spiciness, creating a harmonious dining experience.\n",
    "        \"\"\"),\n",
    "        (\"human\", \"\"\"\n",
    "            이미지의 요리명과 풍미를 한 문장으로 요약해 주세요.\n",
    "        \"\"\")\n",
    "    ])\n",
    "\n",
    "    template = []\n",
    "\n",
    "    if query.get(\"image_urls\"):\n",
    "        template += [{\"image_url\": image_url} for image_url in query[\"image_urls\"]]\n",
    "\n",
    "    prompt += HumanMessagePromptTemplate.from_template(template)\n",
    "\n",
    "    llm = ChatOpenAI(model=\"gpt-4o\", temperature=0, max_tokens=4095)\n",
    "\n",
    "    chain = prompt | llm | StrOutputParser()\n",
    "\n",
    "    return chain"
   ]
  },
  {
   "cell_type": "code",
   "execution_count": 4,
   "id": "4d878644",
   "metadata": {},
   "outputs": [],
   "source": [
    "r1 = RunnableLambda(describe_dish_flavor)"
   ]
  },
  {
   "cell_type": "code",
   "execution_count": 5,
   "id": "d957fb77",
   "metadata": {},
   "outputs": [
    {
     "name": "stdout",
     "output_type": "stream",
     "text": [
      "이 요리는 삼겹살과 김치로, 고소하고 육즙이 풍부한 삼겹살의 풍미가 매콤하고 발효된 김치의 깊은 맛과 조화를 이루어 입맛을 돋웁니다.\n"
     ]
    }
   ],
   "source": [
    "url = 'https://sitem.ssgcdn.com/95/55/96/item/1000346965595_i1_750.jpg'\n",
    "res = r1.invoke({\n",
    "    \"image_urls\": [url]\n",
    "})\n",
    "print(res)"
   ]
  },
  {
   "cell_type": "markdown",
   "id": "a1ef6913",
   "metadata": {},
   "source": [
    "## 사용자 프롬프트 vector화, 유사도 높은 top=5 찾기"
   ]
  },
  {
   "cell_type": "code",
   "execution_count": 7,
   "id": "43ab8745",
   "metadata": {},
   "outputs": [
    {
     "data": {
      "text/plain": [
       "[Document(id='248a9ae5-2005-4c7d-9eb4-530c9cc1f353', metadata={'row': 62049.0, 'source': './wine_reviews/winemag-data-130k-v2.csv'}, page_content=\": 62049\\ncountry: US\\ndescription: Aggressive now in acidity, this Chardonnay has powerful sour Lifesaver candy flavors of pineapples and stony minerals, with a potent kick from smoky oak. It tastes young and jammy. It's elegant, and changes interestingly as it warms in the glass.\\ndesignation: Ryo-fu\\npoints: 89\\nprice: 44.0\\nprovince: California\\nregion_1: Russian River Valley\\nregion_2: Sonoma\\ntaster_name: \\ntaster_twitter_handle: \\ntitle: Freeman 2008 Ryo-fu Pinot Noir (Russian River Valley)\\nvariety: Pinot Noir\\nwinery: Freeman\"),\n",
       " Document(id='0baf18c4-a1cc-4e55-b0c4-e1a5b8758694', metadata={'row': 20494.0, 'source': './wine_reviews/winemag-data-130k-v2.csv'}, page_content=': 20494\\ncountry: US\\ndescription: This lightly sweet wine has an intense oaky, peppery, smoky aroma and the flavors come out the same way. The beefy, liquid-smoke character should match ribs in barbecue sauce.\\ndesignation: Sultry\\npoints: 85\\nprice: 12.0\\nprovince: California\\nregion_1: California\\nregion_2: California Other\\ntaster_name: Jim Gordon\\ntaster_twitter_handle: @gordone_cellars\\ntitle: Hey Mambo 2013 Sultry Red (California)\\nvariety: Red Blend\\nwinery: Hey Mambo'),\n",
       " Document(id='44761137-a007-40a0-b986-0aa4fb894d89', metadata={'row': 82180.0, 'source': './wine_reviews/winemag-data-130k-v2.csv'}, page_content=\": 82180\\ncountry: US\\ndescription: An unabashedly rich and luscious wine, this combines ripe and fresh fruit flavors with luxurious spicy, buttery accents and an almost thick texture. With a subtext as savory as Udon broth it's practically a meal in a bottle. Call it full-bodied, full-flavored, ultrasmooth and impressive.\\ndesignation: \\npoints: 90\\nprice: 22.0\\nprovince: California\\nregion_1: Sonoma County-Monterey County-Santa Barbara County\\nregion_2: California Other\\ntaster_name: Jim Gordon\\ntaster_twitter_handle: @gordone_cellars\\ntitle: Meiomi 2013 Chardonnay (Sonoma County-Monterey County-Santa Barbara County)\\nvariety: Chardonnay\\nwinery: Meiomi\"),\n",
       " Document(id='9a1a389d-a70e-44f5-af20-448d01223951', metadata={'row': 91624.0, 'source': './wine_reviews/winemag-data-130k-v2.csv'}, page_content=': 91624\\ncountry: US\\ndescription: Very gamy and umami-rich aromas of bacon fat and animal hide meet with maple, boysenberry, white pepper, rosemary and teriyaki on the nose of this bottling. The savory and somewhat smoky touches thrive on the palate too, where roasted pork and charred plums combine with coffee bean and warm-toast flavors.\\ndesignation: \\npoints: 92\\nprice: 60.0\\nprovince: California\\nregion_1: Ballard Canyon\\nregion_2: Central Coast\\ntaster_name: Matt Kettmann\\ntaster_twitter_handle: @mattkettmann\\ntitle: Kimsey 2014 Grenache (Ballard Canyon)\\nvariety: Grenache\\nwinery: Kimsey'),\n",
       " Document(id='589baf1c-b3b6-4c55-9384-b52daa6f943d', metadata={'row': 73126.0, 'source': './wine_reviews/winemag-data-130k-v2.csv'}, page_content=\": 73126\\ncountry: US\\ndescription: An unabashedly rich and luscious wine, this combines ripe and fresh fruit flavors with luxurious spicy, buttery accents and an almost thick texture. With a subtext as savory as Udon broth it's practically a meal in a bottle. Call it full-bodied, full-flavored, ultrasmooth and impressive.\\ndesignation: \\npoints: 90\\nprice: 22.0\\nprovince: California\\nregion_1: Sonoma County-Monterey County-Santa Barbara County\\nregion_2: California Other\\ntaster_name: Jim Gordon\\ntaster_twitter_handle: @gordone_cellars\\ntitle: Meiomi 2013 Chardonnay (Sonoma County-Monterey County-Santa Barbara County)\\nvariety: Chardonnay\\nwinery: Meiomi\")]"
      ]
     },
     "execution_count": 7,
     "metadata": {},
     "output_type": "execute_result"
    }
   ],
   "source": [
    "embedding = OpenAIEmbeddings(model=os.getenv(\"OPENAI_EMBEDDING_MODEL\"))\n",
    "\n",
    "vector_store = PineconeVectorStore(\n",
    "    index_name=os.getenv(\"PINECONE_INDEX_NAME\"),\n",
    "    embedding=embedding,\n",
    "    namespace=os.getenv(\"PINECONE_NAMESPACE\")\n",
    ")\n",
    "\n",
    "query = \"이 요리는 삼겹살과 김치로, 고소하고 육즙이 풍부한 삼겹살의 풍미가 매콤하고 새콤한 김치와 어우러져 조화로운 맛을 냅니다.\"\n",
    "vector_store.similarity_search(query, namespace=os.getenv(\"PINECONE_NAMESPACE\"), k=5)"
   ]
  },
  {
   "cell_type": "code",
   "execution_count": 8,
   "id": "d26729d4",
   "metadata": {},
   "outputs": [],
   "source": [
    "def search_wines(dish_flavor):\n",
    "    embedding = OpenAIEmbeddings(model=os.getenv(\"OPENAI_EMBEDDING_MODEL\"))\n",
    "    vector_store = PineconeVectorStore(\n",
    "        index_name=os.getenv(\"PINECONE_INDEX_NAME\"),\n",
    "        embedding=embedding,\n",
    "        namespace=os.getenv(\"PINECONE_NAMESPACE\")\n",
    "    )\n",
    "\n",
    "    results =  vector_store.similarity_search(dish_flavor, namespace=os.getenv(\"PINECONE_NAMESPACE\"), k=5)\n",
    "\n",
    "    return {\n",
    "        \"dish_flavor\": dish_flavor,\n",
    "        \"wine_reviews\": \"\\n\".join([doc.page_content for doc in results])\n",
    "    }"
   ]
  },
  {
   "cell_type": "markdown",
   "id": "1bf9a3ab",
   "metadata": {},
   "source": [
    "## RunnableLambda로 실행"
   ]
  },
  {
   "cell_type": "code",
   "execution_count": 9,
   "id": "21746f24",
   "metadata": {},
   "outputs": [
    {
     "name": "stdout",
     "output_type": "stream",
     "text": [
      "이 요리는 삼겹살과 김치로, 고소하고 육즙이 풍부한 삼겹살의 풍미가 매콤하고 새콤한 김치와 어우러져 조화로운 맛을 냅니다.\n",
      ": 62049\n",
      "country: US\n",
      "description: Aggressive now in acidity, this Chardonnay has powerful sour Lifesaver candy flavors of pineapples and stony minerals, with a potent kick from smoky oak. It tastes young and jammy. It's elegant, and changes interestingly as it warms in the glass.\n",
      "designation: Ryo-fu\n",
      "points: 89\n",
      "price: 44.0\n",
      "province: California\n",
      "region_1: Russian River Valley\n",
      "region_2: Sonoma\n",
      "taster_name: \n",
      "taster_twitter_handle: \n",
      "title: Freeman 2008 Ryo-fu Pinot Noir (Russian River Valley)\n",
      "variety: Pinot Noir\n",
      "winery: Freeman\n",
      ": 20494\n",
      "country: US\n",
      "description: This lightly sweet wine has an intense oaky, peppery, smoky aroma and the flavors come out the same way. The beefy, liquid-smoke character should match ribs in barbecue sauce.\n",
      "designation: Sultry\n",
      "points: 85\n",
      "price: 12.0\n",
      "province: California\n",
      "region_1: California\n",
      "region_2: California Other\n",
      "taster_name: Jim Gordon\n",
      "taster_twitter_handle: @gordone_cellars\n",
      "title: Hey Mambo 2013 Sultry Red (California)\n",
      "variety: Red Blend\n",
      "winery: Hey Mambo\n",
      ": 82180\n",
      "country: US\n",
      "description: An unabashedly rich and luscious wine, this combines ripe and fresh fruit flavors with luxurious spicy, buttery accents and an almost thick texture. With a subtext as savory as Udon broth it's practically a meal in a bottle. Call it full-bodied, full-flavored, ultrasmooth and impressive.\n",
      "designation: \n",
      "points: 90\n",
      "price: 22.0\n",
      "province: California\n",
      "region_1: Sonoma County-Monterey County-Santa Barbara County\n",
      "region_2: California Other\n",
      "taster_name: Jim Gordon\n",
      "taster_twitter_handle: @gordone_cellars\n",
      "title: Meiomi 2013 Chardonnay (Sonoma County-Monterey County-Santa Barbara County)\n",
      "variety: Chardonnay\n",
      "winery: Meiomi\n",
      ": 91624\n",
      "country: US\n",
      "description: Very gamy and umami-rich aromas of bacon fat and animal hide meet with maple, boysenberry, white pepper, rosemary and teriyaki on the nose of this bottling. The savory and somewhat smoky touches thrive on the palate too, where roasted pork and charred plums combine with coffee bean and warm-toast flavors.\n",
      "designation: \n",
      "points: 92\n",
      "price: 60.0\n",
      "province: California\n",
      "region_1: Ballard Canyon\n",
      "region_2: Central Coast\n",
      "taster_name: Matt Kettmann\n",
      "taster_twitter_handle: @mattkettmann\n",
      "title: Kimsey 2014 Grenache (Ballard Canyon)\n",
      "variety: Grenache\n",
      "winery: Kimsey\n",
      ": 73126\n",
      "country: US\n",
      "description: An unabashedly rich and luscious wine, this combines ripe and fresh fruit flavors with luxurious spicy, buttery accents and an almost thick texture. With a subtext as savory as Udon broth it's practically a meal in a bottle. Call it full-bodied, full-flavored, ultrasmooth and impressive.\n",
      "designation: \n",
      "points: 90\n",
      "price: 22.0\n",
      "province: California\n",
      "region_1: Sonoma County-Monterey County-Santa Barbara County\n",
      "region_2: California Other\n",
      "taster_name: Jim Gordon\n",
      "taster_twitter_handle: @gordone_cellars\n",
      "title: Meiomi 2013 Chardonnay (Sonoma County-Monterey County-Santa Barbara County)\n",
      "variety: Chardonnay\n",
      "winery: Meiomi\n"
     ]
    }
   ],
   "source": [
    "r2 = RunnableLambda(search_wines)\n",
    "query = \"이 요리는 삼겹살과 김치로, 고소하고 육즙이 풍부한 삼겹살의 풍미가 매콤하고 새콤한 김치와 어우러져 조화로운 맛을 냅니다.\"\n",
    "res = r2.invoke(query)\n",
    "print(res.get(\"dish_flavor\"))\n",
    "print(res.get(\"wine_reviews\"))"
   ]
  },
  {
   "cell_type": "markdown",
   "id": "f70ae009",
   "metadata": {},
   "source": [
    "## r1, r1로 구성"
   ]
  },
  {
   "cell_type": "code",
   "execution_count": 10,
   "id": "3ffd329a",
   "metadata": {},
   "outputs": [],
   "source": [
    "img_url = 'https://sitem.ssgcdn.com/95/55/96/item/1000346965595_i1_750.jpg'\n",
    "chain = r1 | r2\n",
    "res = chain.invoke({\n",
    "    \"image_urls\": [img_url]\n",
    "})"
   ]
  },
  {
   "cell_type": "code",
   "execution_count": 11,
   "id": "9458ede0",
   "metadata": {},
   "outputs": [
    {
     "name": "stdout",
     "output_type": "stream",
     "text": [
      "이 요리는 삼겹살과 김치로, 고소하고 육즙이 풍부한 삼겹살의 풍미가 매콤하고 발효된 김치의 맛과 조화를 이루어 깊고 풍부한 맛을 제공합니다.\n",
      ": 20494\n",
      "country: US\n",
      "description: This lightly sweet wine has an intense oaky, peppery, smoky aroma and the flavors come out the same way. The beefy, liquid-smoke character should match ribs in barbecue sauce.\n",
      "designation: Sultry\n",
      "points: 85\n",
      "price: 12.0\n",
      "province: California\n",
      "region_1: California\n",
      "region_2: California Other\n",
      "taster_name: Jim Gordon\n",
      "taster_twitter_handle: @gordone_cellars\n",
      "title: Hey Mambo 2013 Sultry Red (California)\n",
      "variety: Red Blend\n",
      "winery: Hey Mambo\n",
      ": 119473\n",
      "country: US\n",
      "description: This is a pretty simple Petite Sirah, with rich, soft flavors of raspberry and cherry sour candy. But it has lovely tannins. Cook up a great cheeseburger and enjoy.\n",
      "designation: Seven Sinners The Ransom\n",
      "points: 83\n",
      "price: 16.0\n",
      "province: California\n",
      "region_1: Napa Valley\n",
      "region_2: Napa\n",
      "taster_name: \n",
      "taster_twitter_handle: \n",
      "title: Nine North Wine Company 2012 Seven Sinners The Ransom Petite Sirah (Napa Valley)\n",
      "variety: Petite Sirah\n",
      "winery: Nine North Wine Company\n",
      ": 53862\n",
      "country: Israel\n",
      "description: Deep ruby to the eye, this wine has a nose of fruits of the wood with a hint of roasted tomato. Tannins are surprisingly soft considering the depth of flavor, most notably black cherry, cranberry and smoke with touches of saddle leather. Velvety tannins cascade toward a finish that is equal parts bright and smoky.\n",
      "designation: Sauvage\n",
      "points: 90\n",
      "price: 25.0\n",
      "province: Judean Hills\n",
      "region_1: \n",
      "region_2: \n",
      "taster_name: Mike DeSimone\n",
      "taster_twitter_handle: @worldwineguys\n",
      "title: Yaffo 2013 Sauvage Red (Judean Hills)\n",
      "variety: Red Blend\n",
      "winery: Yaffo\n",
      ": 72157\n",
      "country: Israel\n",
      "description: Aromas of black cherry, raspberry, flint, smoke and violet prep the palate for flavors of raspberry, black cherry, smoked meat, chocolate and black pepper. There is an interesting interplay of fruit flavors and savory notes of herb-rubbed meat. A web of soft tannins plays across the palate through a finish that has flavors of smoke and yellow cherry.\n",
      "designation: Yasmin\n",
      "points: 90\n",
      "price: 12.0\n",
      "province: Galilee\n",
      "region_1: \n",
      "region_2: \n",
      "taster_name: Mike DeSimone\n",
      "taster_twitter_handle: @worldwineguys\n",
      "title: Recanati 2014 Yasmin Red (Galilee)\n",
      "variety: Red Blend\n",
      "winery: Recanati\n",
      ": 99911\n",
      "country: US\n",
      "description: The timid nose squeaks out notes of Chinese five spice and warm green apple, with a slight hint of sulfur. Light to medium bodied, the palate bears a slight sweetness, tame acids and a quick finish.\n",
      "designation: Villagio Off Dry\n",
      "points: 82\n",
      "price: 9.0\n",
      "province: Missouri\n",
      "region_1: Missouri\n",
      "region_2: \n",
      "taster_name: \n",
      "taster_twitter_handle: \n",
      "title: Mount Pleasant Winery NV Villagio Off Dry White (Missouri)\n",
      "variety: White Blend\n",
      "winery: Mount Pleasant Winery\n"
     ]
    }
   ],
   "source": [
    "print(res.get(\"dish_flavor\"))\n",
    "print(res.get(\"wine_reviews\"))"
   ]
  },
  {
   "cell_type": "markdown",
   "id": "e10e3d32",
   "metadata": {},
   "source": [
    "## 와인 추천"
   ]
  },
  {
   "cell_type": "code",
   "execution_count": 12,
   "id": "8023340b",
   "metadata": {},
   "outputs": [],
   "source": [
    "def recommand_wines(query):\n",
    "    \n",
    "    prompt = ChatPromptTemplate.from_messages([\n",
    "        (\"system\", \"\"\"\n",
    "            Persona: You are a refined and approachable virtual wine sommelier with a deep passion for wines, dedicated to helping users explore and enjoy the world of wine with confidence. Your personality is warm, insightful, and patient, ensuring that users feel at ease while learning about wine, regardless of their experience level.\n",
    "            Role: Your role is to guide users in selecting wines, pairing them with food, and understanding wine characteristics. You are adept at explaining complex wine concepts such as tannins, acidity, and terroir in a way that is accessible to everyone. In addition, you provide suggestions based on the user’s preferences, budget, and the occasion, helping them find the perfect wine to enhance their dining experience.\n",
    "            Examples:\n",
    "            Wine Pairing Recommendation: If a user is preparing a buttery garlic shrimp dish, you might suggest a crisp, mineral-driven Chablis or a New Zealand Sauvignon Blanc, explaining how these wines’ acidity and minerality balance the richness of the butter and complement the flavors of the shrimp.\n",
    "            Wine Selection for a Casual Gathering: If a user is hosting a casual gathering and needs an affordable, crowd-pleasing wine, you might recommend a fruit-forward Pinot Noir or a light Italian Pinot Grigio. Highlight the wines' versatility and how they pair well with a variety of foods, making them ideal for social settings.\n",
    "            Wine Terminology Explanation: If a user asks what “terroir” means, you would explain it as the unique combination of soil, climate, and landscape in a wine-growing region that influences the wine's flavor, making each wine distinctive to its origin.\n",
    "            \"\"\"\n",
    "        ),\n",
    "        (\"human\", \"\"\"\n",
    "            와인 페어링 추천에 아래의 요리와 풍미, 와인 리뷰만을 참고하여 한글로 답변해 주세요.\n",
    "\n",
    "            요리와 풍미:\n",
    "            {dish_flavor}\n",
    "\n",
    "            와인 리뷰:\n",
    "            {wine_reviews}\n",
    "\n",
    "            답변은 다음과 같은 값으로 json 데이터로 리턴해주세요.\n",
    "            recommend_wine :\n",
    "            recommend_reason :\n",
    "        \"\"\")\n",
    "    ])\n",
    "    \n",
    "    llm = ChatOpenAI(model=\"gpt-4o\", temperature=0, max_tokens=4095)\n",
    "    chain = prompt | llm | JsonOutputParser()\n",
    "\n",
    "    return chain"
   ]
  },
  {
   "cell_type": "code",
   "execution_count": 13,
   "id": "f63ed017",
   "metadata": {},
   "outputs": [],
   "source": [
    "r1 = RunnableLambda(describe_dish_flavor)\n",
    "r2 = RunnableLambda(search_wines)\n",
    "r3 = RunnableLambda(recommand_wines)\n",
    "\n",
    "chain = r1 | r2 | r3\n",
    "img_urls = ['https://sitem.ssgcdn.com/95/55/96/item/1000346965595_i1_750.jpg']\n",
    "res = chain.invoke({\n",
    "    \"image_urls\": img_urls\n",
    "})"
   ]
  },
  {
   "cell_type": "code",
   "execution_count": 14,
   "id": "a7d32c82",
   "metadata": {},
   "outputs": [
    {
     "name": "stdout",
     "output_type": "stream",
     "text": [
      "{'recommend_wine': 'Kimsey 2014 Grenache (Ballard Canyon)', 'recommend_reason': '이 와인은 베이컨 지방과 동물 가죽의 감칠맛이 풍부한 향과 함께 메이플, 보이즌베리, 화이트 페퍼, 로즈마리, 테리야키의 향을 제공합니다. 삼겹살과 김치의 고소하고 매콤한 맛과 잘 어울리며, 구운 돼지고기와 그을린 자두, 커피빈, 따뜻한 토스트의 풍미가 조화를 이루어 요리의 깊고 풍부한 맛을 한층 더 돋보이게 합니다.'}\n"
     ]
    }
   ],
   "source": [
    "print(res)"
   ]
  }
 ],
 "metadata": {
  "kernelspec": {
   "display_name": "lc_env",
   "language": "python",
   "name": "python3"
  },
  "language_info": {
   "codemirror_mode": {
    "name": "ipython",
    "version": 3
   },
   "file_extension": ".py",
   "mimetype": "text/x-python",
   "name": "python",
   "nbconvert_exporter": "python",
   "pygments_lexer": "ipython3",
   "version": "3.12.11"
  }
 },
 "nbformat": 4,
 "nbformat_minor": 5
}
